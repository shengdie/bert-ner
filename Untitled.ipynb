{
 "cells": [
  {
   "cell_type": "code",
   "execution_count": 1,
   "metadata": {},
   "outputs": [
    {
     "name": "stdout",
     "output_type": "stream",
     "text": [
      "Better speed can be achieved with apex installed from https://www.github.com/nvidia/apex.\n"
     ]
    }
   ],
   "source": [
    "from model import *\n",
    "import numpy as np\n",
    "%load_ext autoreload\n",
    "%autoreload 2"
   ]
  },
  {
   "cell_type": "code",
   "execution_count": 2,
   "metadata": {},
   "outputs": [],
   "source": [
    "vocab_path = 'weights/pubmed_pmc_470k/vocab.txt'\n",
    "bert_conf_path = 'weights/pubmed_pmc_470k/bert_config.json'\n",
    "bert_weight= 'weights/pytorch_weight'\n",
    "train_data_path = 'data/data_BI.npy'\n",
    "test_data_path = 'data/test_data_BI.npy'\n",
    "\n",
    "train_size = None\n",
    "val_size = 0.1\n",
    "\n",
    "classes = [0, 1, 2, 3, 5, 6, 7]\n",
    "tags = ['O', 'B-E', 'B-P', 'B-T', 'I-E', 'I-P', 'I-T']\n",
    "#classes = [tags['']]\n",
    "\n",
    "idx2token = np.loadtxt(vocab_path, dtype='str')\n",
    "vocab = {idx2token[i]:i for i in range(len(idx2token))}\n",
    "\n",
    "train_dataloader, val_dataloader = load_data(train_data_path, test_data_path, vocab, classes=classes, max_len=70,\n",
    "                                             train_size=train_size, val_size=val_size)"
   ]
  },
  {
   "cell_type": "code",
   "execution_count": 4,
   "metadata": {},
   "outputs": [
    {
     "data": {
      "text/plain": [
       "'weights/pytorch_weight'"
      ]
     },
     "execution_count": 4,
     "metadata": {},
     "output_type": "execute_result"
    }
   ],
   "source": [
    "bert_weight"
   ]
  },
  {
   "cell_type": "code",
   "execution_count": 3,
   "metadata": {},
   "outputs": [
    {
     "name": "stdout",
     "output_type": "stream",
     "text": [
      "* Epoch 0/5\n"
     ]
    },
    {
     "data": {
      "application/vnd.jupyter.widget-view+json": {
       "model_id": "",
       "version_major": 2,
       "version_minor": 0
      },
      "text/plain": [
       "HBox(children=(IntProgress(value=0, description='Trainning', max=513, style=ProgressStyle(description_width='i…"
      ]
     },
     "metadata": {},
     "output_type": "display_data"
    },
    {
     "name": "stdout",
     "output_type": "stream",
     "text": [
      "Train loss: 1.2641251864489058\n",
      "Validation loss: 1.198630640283227\n",
      "Validation Accuracy: 0.9722859700520833\n",
      "F1-Score: 0\n",
      "- Time elasped: 218.72109 seconds\n",
      "\n",
      "* Epoch 1/5\n"
     ]
    },
    {
     "data": {
      "application/vnd.jupyter.widget-view+json": {
       "model_id": "",
       "version_major": 2,
       "version_minor": 0
      },
      "text/plain": [
       "HBox(children=(IntProgress(value=0, description='Trainning', max=513, style=ProgressStyle(description_width='i…"
      ]
     },
     "metadata": {},
     "output_type": "display_data"
    },
    {
     "name": "stdout",
     "output_type": "stream",
     "text": [
      "Train loss: 0.9404581852591294\n",
      "Validation loss: 1.1613129610195756\n",
      "Validation Accuracy: 0.9722859700520833\n",
      "F1-Score: 0\n",
      "- Time elasped: 219.67960 seconds\n",
      "\n",
      "* Epoch 2/5\n"
     ]
    },
    {
     "data": {
      "application/vnd.jupyter.widget-view+json": {
       "model_id": "",
       "version_major": 2,
       "version_minor": 0
      },
      "text/plain": [
       "HBox(children=(IntProgress(value=0, description='Trainning', max=513, style=ProgressStyle(description_width='i…"
      ]
     },
     "metadata": {},
     "output_type": "display_data"
    },
    {
     "name": "stdout",
     "output_type": "stream",
     "text": [
      "Train loss: 0.8985092512115865\n",
      "Validation loss: 1.1309438738971949\n",
      "Validation Accuracy: 0.9722859700520833\n",
      "F1-Score: 0\n",
      "- Time elasped: 220.54584 seconds\n",
      "\n",
      "* Epoch 3/5\n"
     ]
    },
    {
     "data": {
      "application/vnd.jupyter.widget-view+json": {
       "model_id": "",
       "version_major": 2,
       "version_minor": 0
      },
      "text/plain": [
       "HBox(children=(IntProgress(value=0, description='Trainning', max=513, style=ProgressStyle(description_width='i…"
      ]
     },
     "metadata": {},
     "output_type": "display_data"
    },
    {
     "name": "stdout",
     "output_type": "stream",
     "text": [
      "Train loss: 0.8755844452692519\n",
      "Validation loss: 1.105752119794488\n",
      "Validation Accuracy: 0.9723673502604167\n",
      "F1-Score: 0\n",
      "- Time elasped: 220.55010 seconds\n",
      "\n",
      "* Epoch 4/5\n"
     ]
    },
    {
     "data": {
      "application/vnd.jupyter.widget-view+json": {
       "model_id": "",
       "version_major": 2,
       "version_minor": 0
      },
      "text/plain": [
       "HBox(children=(IntProgress(value=0, description='Trainning', max=513, style=ProgressStyle(description_width='i…"
      ]
     },
     "metadata": {},
     "output_type": "display_data"
    },
    {
     "name": "stdout",
     "output_type": "stream",
     "text": [
      "Train loss: 0.8594083430474264\n",
      "Validation loss: 1.0901905577629805\n",
      "Validation Accuracy: 0.9725789388020831\n",
      "F1-Score: 0\n",
      "- Time elasped: 220.55937 seconds\n",
      "\n"
     ]
    }
   ],
   "source": [
    "net = model(bert_conf_path, bert_weight, num_class=len(classes))\n",
    "#if pargs.full_trainning:\n",
    "#    net.full_trainning(True)\n",
    "net.train(train_dataloader, val_dataloader, 5, tags)"
   ]
  },
  {
   "cell_type": "code",
   "execution_count": null,
   "metadata": {},
   "outputs": [],
   "source": [
    "net.b_model()"
   ]
  },
  {
   "cell_type": "code",
   "execution_count": 4,
   "metadata": {},
   "outputs": [],
   "source": [
    "import torch"
   ]
  },
  {
   "cell_type": "code",
   "execution_count": 5,
   "metadata": {},
   "outputs": [],
   "source": [
    "torch.save(net.b_model.state_dict(), './weights/pytorch_weight_bi')"
   ]
  },
  {
   "cell_type": "code",
   "execution_count": 8,
   "metadata": {},
   "outputs": [],
   "source": [
    "ret = net.predict(val_dataloader, tags)"
   ]
  },
  {
   "cell_type": "code",
   "execution_count": 28,
   "metadata": {},
   "outputs": [
    {
     "ename": "IndexError",
     "evalue": "index 3000 is out of bounds for axis 0 with size 2048",
     "output_type": "error",
     "traceback": [
      "\u001b[0;31m---------------------------------------------------------------------------\u001b[0m",
      "\u001b[0;31mIndexError\u001b[0m                                Traceback (most recent call last)",
      "\u001b[0;32m<ipython-input-28-7e2263d77a92>\u001b[0m in \u001b[0;36m<module>\u001b[0;34m\u001b[0m\n\u001b[0;32m----> 1\u001b[0;31m \u001b[0mret\u001b[0m\u001b[0;34m[\u001b[0m\u001b[0;34m'pred'\u001b[0m\u001b[0;34m]\u001b[0m\u001b[0;34m[\u001b[0m\u001b[0;36m3000\u001b[0m\u001b[0;34m]\u001b[0m\u001b[0;34m\u001b[0m\u001b[0;34m\u001b[0m\u001b[0m\n\u001b[0m",
      "\u001b[0;31mIndexError\u001b[0m: index 3000 is out of bounds for axis 0 with size 2048"
     ]
    }
   ],
   "source": [
    "ret['pred'][3000]"
   ]
  },
  {
   "cell_type": "code",
   "execution_count": 11,
   "metadata": {},
   "outputs": [
    {
     "data": {
      "text/plain": [
       "array([[1, 4, 0, ..., 0, 0, 0],\n",
       "       [0, 0, 0, ..., 0, 0, 0],\n",
       "       [0, 0, 0, ..., 0, 0, 0],\n",
       "       ...,\n",
       "       [1, 0, 0, ..., 0, 0, 0],\n",
       "       [0, 0, 0, ..., 0, 0, 0],\n",
       "       [0, 0, 0, ..., 0, 0, 0]])"
      ]
     },
     "execution_count": 11,
     "metadata": {},
     "output_type": "execute_result"
    }
   ],
   "source": [
    "ret['truth']"
   ]
  },
  {
   "cell_type": "code",
   "execution_count": 29,
   "metadata": {},
   "outputs": [
    {
     "data": {
      "text/plain": [
       "72"
      ]
     },
     "execution_count": 29,
     "metadata": {},
     "output_type": "execute_result"
    }
   ],
   "source": [
    "np.sum(ret['pred'] != 0)"
   ]
  },
  {
   "cell_type": "code",
   "execution_count": 31,
   "metadata": {},
   "outputs": [
    {
     "data": {
      "text/plain": [
       "6811"
      ]
     },
     "execution_count": 31,
     "metadata": {},
     "output_type": "execute_result"
    }
   ],
   "source": [
    "np.sum(ret['truth'] != 0)"
   ]
  },
  {
   "cell_type": "code",
   "execution_count": 5,
   "metadata": {},
   "outputs": [
    {
     "name": "stdout",
     "output_type": "stream",
     "text": [
      "* Epoch 1/5\n"
     ]
    },
    {
     "data": {
      "application/vnd.jupyter.widget-view+json": {
       "model_id": "",
       "version_major": 2,
       "version_minor": 0
      },
      "text/plain": [
       "HBox(children=(IntProgress(value=0, description='Trainning', max=513, style=ProgressStyle(description_width='i…"
      ]
     },
     "metadata": {},
     "output_type": "display_data"
    },
    {
     "name": "stdout",
     "output_type": "stream",
     "text": [
      "Train loss: 0.6624850909612332\n",
      "Validation loss: 0.5371756120584905\n",
      "Validation Accuracy: 0.7548967633928567\n",
      "F1-Score: 0.18036636918741192\n",
      "- Time elasped: 142.66065 seconds\n",
      "\n",
      "* Epoch 2/5\n"
     ]
    },
    {
     "data": {
      "application/vnd.jupyter.widget-view+json": {
       "model_id": "",
       "version_major": 2,
       "version_minor": 0
      },
      "text/plain": [
       "HBox(children=(IntProgress(value=0, description='Trainning', max=513, style=ProgressStyle(description_width='i…"
      ]
     },
     "metadata": {},
     "output_type": "display_data"
    },
    {
     "name": "stdout",
     "output_type": "stream",
     "text": [
      "Train loss: 0.41511274107366974\n",
      "Validation loss: 0.3238375778310001\n",
      "Validation Accuracy: 0.7467354910714287\n",
      "F1-Score: 0.18845763235748664\n",
      "- Time elasped: 143.73598 seconds\n",
      "\n",
      "* Epoch 3/5\n"
     ]
    },
    {
     "data": {
      "application/vnd.jupyter.widget-view+json": {
       "model_id": "",
       "version_major": 2,
       "version_minor": 0
      },
      "text/plain": [
       "HBox(children=(IntProgress(value=0, description='Trainning', max=513, style=ProgressStyle(description_width='i…"
      ]
     },
     "metadata": {},
     "output_type": "display_data"
    },
    {
     "name": "stdout",
     "output_type": "stream",
     "text": [
      "Train loss: 0.3011312563168375\n",
      "Validation loss: 0.24062169820535928\n",
      "Validation Accuracy: 0.7466936383928573\n",
      "F1-Score: 0.20020052135552435\n",
      "- Time elasped: 143.80787 seconds\n",
      "\n",
      "* Epoch 4/5\n"
     ]
    },
    {
     "data": {
      "application/vnd.jupyter.widget-view+json": {
       "model_id": "",
       "version_major": 2,
       "version_minor": 0
      },
      "text/plain": [
       "HBox(children=(IntProgress(value=0, description='Trainning', max=513, style=ProgressStyle(description_width='i…"
      ]
     },
     "metadata": {},
     "output_type": "display_data"
    },
    {
     "name": "stdout",
     "output_type": "stream",
     "text": [
      "Train loss: 0.22808465640447292\n",
      "Validation loss: 0.1821113966871053\n",
      "Validation Accuracy: 0.7498116629464284\n",
      "F1-Score: 0.2198326323548541\n",
      "- Time elasped: 143.82686 seconds\n",
      "\n",
      "* Epoch 5/5\n"
     ]
    },
    {
     "data": {
      "application/vnd.jupyter.widget-view+json": {
       "model_id": "",
       "version_major": 2,
       "version_minor": 0
      },
      "text/plain": [
       "HBox(children=(IntProgress(value=0, description='Trainning', max=513, style=ProgressStyle(description_width='i…"
      ]
     },
     "metadata": {},
     "output_type": "display_data"
    },
    {
     "name": "stdout",
     "output_type": "stream",
     "text": [
      "Train loss: 0.1795334088639674\n",
      "Validation loss: 0.12220295026781969\n",
      "Validation Accuracy: 0.7654994419642858\n",
      "F1-Score: 0.22712799830184674\n",
      "- Time elasped: 143.85109 seconds\n",
      "\n"
     ]
    }
   ],
   "source": [
    "net = model(bert_conf_path, bert_weight, num_class=len(classes))\n",
    "#if pargs.full_trainning:\n",
    "net.full_trainning(True)\n",
    "net.train(train_dataloader, val_dataloader, 5, tags)"
   ]
  },
  {
   "cell_type": "code",
   "execution_count": 3,
   "metadata": {},
   "outputs": [
    {
     "name": "stdout",
     "output_type": "stream",
     "text": [
      "* Epoch 1/5\n"
     ]
    },
    {
     "data": {
      "application/vnd.jupyter.widget-view+json": {
       "model_id": "",
       "version_major": 2,
       "version_minor": 0
      },
      "text/plain": [
       "HBox(children=(IntProgress(value=0, description='Trainning', max=513, style=ProgressStyle(description_width='i…"
      ]
     },
     "metadata": {},
     "output_type": "display_data"
    },
    {
     "name": "stdout",
     "output_type": "stream",
     "text": [
      "Train loss: 1.2283605348761784\n",
      "Validation loss: 1.1580864740535617\n",
      "Validation Accuracy: 0.9546805245535714\n",
      "F1-Score: 0\n",
      "- Time elasped: 132.74724 seconds\n",
      "\n",
      "* Epoch 2/5\n"
     ]
    },
    {
     "data": {
      "application/vnd.jupyter.widget-view+json": {
       "model_id": "",
       "version_major": 2,
       "version_minor": 0
      },
      "text/plain": [
       "HBox(children=(IntProgress(value=0, description='Trainning', max=513, style=ProgressStyle(description_width='i…"
      ]
     },
     "metadata": {},
     "output_type": "display_data"
    },
    {
     "name": "stdout",
     "output_type": "stream",
     "text": [
      "Train loss: 0.9386262275554516\n",
      "Validation loss: 1.1229749536141753\n",
      "Validation Accuracy: 0.9546805245535714\n",
      "F1-Score: 0\n",
      "- Time elasped: 133.56623 seconds\n",
      "\n",
      "* Epoch 3/5\n"
     ]
    },
    {
     "data": {
      "application/vnd.jupyter.widget-view+json": {
       "model_id": "",
       "version_major": 2,
       "version_minor": 0
      },
      "text/plain": [
       "HBox(children=(IntProgress(value=0, description='Trainning', max=513, style=ProgressStyle(description_width='i…"
      ]
     },
     "metadata": {},
     "output_type": "display_data"
    },
    {
     "name": "stdout",
     "output_type": "stream",
     "text": [
      "Train loss: 0.8971636782147964\n",
      "Validation loss: 1.100934055633843\n",
      "Validation Accuracy: 0.9546805245535714\n",
      "F1-Score: 0\n",
      "- Time elasped: 133.64332 seconds\n",
      "\n",
      "* Epoch 4/5\n"
     ]
    },
    {
     "data": {
      "application/vnd.jupyter.widget-view+json": {
       "model_id": "",
       "version_major": 2,
       "version_minor": 0
      },
      "text/plain": [
       "HBox(children=(IntProgress(value=0, description='Trainning', max=513, style=ProgressStyle(description_width='i…"
      ]
     },
     "metadata": {},
     "output_type": "display_data"
    },
    {
     "name": "stdout",
     "output_type": "stream",
     "text": [
      "Train loss: 0.8757615277641698\n",
      "Validation loss: 1.0787096628919244\n",
      "Validation Accuracy: 0.9551478794642858\n",
      "F1-Score: 0\n",
      "- Time elasped: 133.65425 seconds\n",
      "\n",
      "* Epoch 5/5\n"
     ]
    },
    {
     "data": {
      "application/vnd.jupyter.widget-view+json": {
       "model_id": "",
       "version_major": 2,
       "version_minor": 0
      },
      "text/plain": [
       "HBox(children=(IntProgress(value=0, description='Trainning', max=513, style=ProgressStyle(description_width='i…"
      ]
     },
     "metadata": {},
     "output_type": "display_data"
    },
    {
     "name": "stdout",
     "output_type": "stream",
     "text": [
      "Train loss: 0.8589685022482398\n",
      "Validation loss: 1.0636651320382953\n",
      "Validation Accuracy: 0.9551478794642858\n",
      "F1-Score: 0\n",
      "- Time elasped: 133.65274 seconds\n",
      "\n"
     ]
    }
   ],
   "source": [
    "net = model(bert_conf_path, bert_weight, num_class=len(classes))\n",
    "#if pargs.full_trainning:\n",
    "#net.full_trainning(True)\n",
    "net.train(train_dataloader, val_dataloader, 5, tags)"
   ]
  },
  {
   "cell_type": "code",
   "execution_count": 4,
   "metadata": {},
   "outputs": [],
   "source": [
    "net.save('weights/pytorch_weight_70')"
   ]
  },
  {
   "cell_type": "code",
   "execution_count": 5,
   "metadata": {},
   "outputs": [],
   "source": [
    "torch.cuda.empty_cache()"
   ]
  },
  {
   "cell_type": "code",
   "execution_count": 6,
   "metadata": {},
   "outputs": [],
   "source": [
    "net.full_trainning(True)"
   ]
  },
  {
   "cell_type": "code",
   "execution_count": null,
   "metadata": {},
   "outputs": [
    {
     "name": "stdout",
     "output_type": "stream",
     "text": [
      "* Epoch 6/5\n"
     ]
    },
    {
     "data": {
      "application/vnd.jupyter.widget-view+json": {
       "model_id": "",
       "version_major": 2,
       "version_minor": 0
      },
      "text/plain": [
       "HBox(children=(IntProgress(value=0, description='Trainning', max=513, style=ProgressStyle(description_width='i…"
      ]
     },
     "metadata": {},
     "output_type": "display_data"
    },
    {
     "name": "stdout",
     "output_type": "stream",
     "text": [
      "Train loss: 0.639397656417962\n",
      "Validation loss: 0.5176578732207417\n",
      "Validation Accuracy: 0.8216657366071429\n",
      "F1-Score: 0.20260416666666664\n",
      "- Time elasped: 142.99858 seconds\n",
      "\n",
      "* Epoch 7/5\n"
     ]
    },
    {
     "data": {
      "application/vnd.jupyter.widget-view+json": {
       "model_id": "",
       "version_major": 2,
       "version_minor": 0
      },
      "text/plain": [
       "HBox(children=(IntProgress(value=0, description='Trainning', max=513, style=ProgressStyle(description_width='i…"
      ]
     },
     "metadata": {},
     "output_type": "display_data"
    },
    {
     "name": "stdout",
     "output_type": "stream",
     "text": [
      "Train loss: 0.43753792627280685\n",
      "Validation loss: 0.33671262208372355\n",
      "Validation Accuracy: 0.8254464285714285\n",
      "F1-Score: 0.25538779197315786\n",
      "- Time elasped: 144.11149 seconds\n",
      "\n",
      "* Epoch 8/5\n"
     ]
    },
    {
     "data": {
      "application/vnd.jupyter.widget-view+json": {
       "model_id": "",
       "version_major": 2,
       "version_minor": 0
      },
      "text/plain": [
       "HBox(children=(IntProgress(value=0, description='Trainning', max=513, style=ProgressStyle(description_width='i…"
      ]
     },
     "metadata": {},
     "output_type": "display_data"
    },
    {
     "name": "stdout",
     "output_type": "stream",
     "text": [
      "Train loss: 0.32145881716735647\n",
      "Validation loss: 0.21122395305428654\n",
      "Validation Accuracy: 0.8210937499999997\n",
      "F1-Score: 0.3032089502244255\n",
      "- Time elasped: 144.09311 seconds\n",
      "\n",
      "* Epoch 9/5\n"
     ]
    },
    {
     "data": {
      "application/vnd.jupyter.widget-view+json": {
       "model_id": "",
       "version_major": 2,
       "version_minor": 0
      },
      "text/plain": [
       "HBox(children=(IntProgress(value=0, description='Trainning', max=513, style=ProgressStyle(description_width='i…"
      ]
     },
     "metadata": {},
     "output_type": "display_data"
    },
    {
     "name": "stdout",
     "output_type": "stream",
     "text": [
      "Train loss: 0.24024605913701347\n",
      "Validation loss: 0.1780150133126881\n",
      "Validation Accuracy: 0.8338378906249998\n",
      "F1-Score: 0.29917417417417413\n",
      "- Time elasped: 144.10458 seconds\n",
      "\n",
      "* Epoch 10/5\n"
     ]
    },
    {
     "data": {
      "application/vnd.jupyter.widget-view+json": {
       "model_id": "95982e80f6f74a26937da2ab939fa181",
       "version_major": 2,
       "version_minor": 0
      },
      "text/plain": [
       "HBox(children=(IntProgress(value=0, description='Trainning', max=513, style=ProgressStyle(description_width='i…"
      ]
     },
     "metadata": {},
     "output_type": "display_data"
    }
   ],
   "source": [
    "net.train(train_dataloader, val_dataloader, 5, tags)"
   ]
  },
  {
   "cell_type": "code",
   "execution_count": null,
   "metadata": {},
   "outputs": [],
   "source": []
  }
 ],
 "metadata": {
  "kernelspec": {
   "display_name": "Python 3",
   "language": "python",
   "name": "python3"
  },
  "language_info": {
   "codemirror_mode": {
    "name": "ipython",
    "version": 3
   },
   "file_extension": ".py",
   "mimetype": "text/x-python",
   "name": "python",
   "nbconvert_exporter": "python",
   "pygments_lexer": "ipython3",
   "version": "3.7.3"
  }
 },
 "nbformat": 4,
 "nbformat_minor": 2
}
