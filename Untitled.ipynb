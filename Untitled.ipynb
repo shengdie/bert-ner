{
 "cells": [
  {
   "cell_type": "code",
   "execution_count": 1,
   "metadata": {},
   "outputs": [
    {
     "name": "stdout",
     "output_type": "stream",
     "text": [
      "Better speed can be achieved with apex installed from https://www.github.com/nvidia/apex.\n"
     ]
    }
   ],
   "source": [
    "from model import *\n",
    "import numpy as np\n",
    "%load_ext autoreload\n",
    "%autoreload 2"
   ]
  },
  {
   "cell_type": "code",
   "execution_count": null,
   "metadata": {},
   "outputs": [],
   "source": [
    "from pytorch_pretrained_bert import BertTokenizer, BertConfig"
   ]
  },
  {
   "cell_type": "code",
   "execution_count": 5,
   "metadata": {},
   "outputs": [],
   "source": [
    "from dataloader import process_data, load_data, load_vocab"
   ]
  },
  {
   "cell_type": "code",
   "execution_count": 11,
   "metadata": {},
   "outputs": [
    {
     "name": "stdout",
     "output_type": "stream",
     "text": [
      "tensor(100803) tensor(364047)\n",
      "data size [train, test, val] = [27670, 6271, 2953]\n"
     ]
    }
   ],
   "source": [
    "vocab_path = 'weights/pubmed_pmc_470k/vocab.txt'\n",
    "bert_conf_path = 'weights/pubmed_pmc_470k/bert_config.json'\n",
    "bert_weight= 'weights/pytorch_weight'\n",
    "train_data_path = 'data/data_BI.npy'\n",
    "test_data_path = 'data/test_data_BI.npy'\n",
    "#train_data_path = 'data/data_entity.npz'\n",
    "#test_data_path = 'data/test_entity.npz'\n",
    "\n",
    "train_size = None\n",
    "val_size = 0.1\n",
    "\n",
    "classes = [0, 1, 2, 3, 4, 5, 6]\n",
    "tags = ['O', 'B-E', 'B-P', 'B-T', 'I-E', 'I-P', 'I-T']\n",
    "#classes = [0, 1, 2]\n",
    "#tags = ['O', 'B-E', 'I-E']\n",
    "#classes = [tags['']]\n",
    "idx2token, vocab = load_vocab(vocab_path)\n",
    "\n",
    "train_dataloader, test_dataloader, val_dataloader = load_data(train_data_path, test_data_path, vocab, classes=classes, max_len=75,\n",
    "                                             train_size=train_size, val_size=val_size, labelkey='output')"
   ]
  },
  {
   "cell_type": "code",
   "execution_count": 12,
   "metadata": {},
   "outputs": [
    {
     "data": {
      "text/plain": [
       "0.2768955656824531"
      ]
     },
     "execution_count": 12,
     "metadata": {},
     "output_type": "execute_result"
    }
   ],
   "source": [
    "100803/364047"
   ]
  },
  {
   "cell_type": "code",
   "execution_count": 13,
   "metadata": {},
   "outputs": [
    {
     "data": {
      "text/plain": [
       "100"
      ]
     },
     "execution_count": 13,
     "metadata": {},
     "output_type": "execute_result"
    }
   ],
   "source": [
    " vocab['[UNK]']"
   ]
  },
  {
   "cell_type": "code",
   "execution_count": 4,
   "metadata": {},
   "outputs": [
    {
     "name": "stdout",
     "output_type": "stream",
     "text": [
      "* [Epoch 1/5]\n"
     ]
    },
    {
     "data": {
      "application/vnd.jupyter.widget-view+json": {
       "model_id": "",
       "version_major": 2,
       "version_minor": 0
      },
      "text/plain": [
       "HBox(children=(IntProgress(value=0, description='Trainning', max=865, style=ProgressStyle(description_width='i…"
      ]
     },
     "metadata": {},
     "output_type": "display_data"
    },
    {
     "name": "stdout",
     "output_type": "stream",
     "text": [
      "Train loss: 0.22040859801274848\n",
      "Validation loss: 0.13085712466992297\n",
      "Validation Accuracy: 0.7945937873357232\n",
      "F1-Score: 0.18338953274205888\n",
      "- Time elasped: 257.16674 seconds\n",
      "\n",
      "* [Epoch 2/5]\n"
     ]
    },
    {
     "data": {
      "application/vnd.jupyter.widget-view+json": {
       "model_id": "",
       "version_major": 2,
       "version_minor": 0
      },
      "text/plain": [
       "HBox(children=(IntProgress(value=0, description='Trainning', max=865, style=ProgressStyle(description_width='i…"
      ]
     },
     "metadata": {},
     "output_type": "display_data"
    },
    {
     "name": "stdout",
     "output_type": "stream",
     "text": [
      "Train loss: 0.09942745431676249\n",
      "Validation loss: 0.1296940705074268\n",
      "Validation Accuracy: 0.7985095579450416\n",
      "F1-Score: 0.18752540797955747\n",
      "- Time elasped: 257.69994 seconds\n",
      "\n",
      "* [Epoch 3/5]\n"
     ]
    },
    {
     "data": {
      "application/vnd.jupyter.widget-view+json": {
       "model_id": "",
       "version_major": 2,
       "version_minor": 0
      },
      "text/plain": [
       "HBox(children=(IntProgress(value=0, description='Trainning', max=865, style=ProgressStyle(description_width='i…"
      ]
     },
     "metadata": {},
     "output_type": "display_data"
    },
    {
     "name": "stdout",
     "output_type": "stream",
     "text": [
      "Train loss: 0.0728498905790819\n",
      "Validation loss: 0.1344116167828781\n",
      "Validation Accuracy: 0.7888923735563521\n",
      "F1-Score: 0.17771876100918677\n",
      "- Time elasped: 258.81903 seconds\n",
      "\n",
      "* [Epoch 4/5]\n"
     ]
    },
    {
     "data": {
      "application/vnd.jupyter.widget-view+json": {
       "model_id": "ed95a4b33b874edbb7ac72a692fcd938",
       "version_major": 2,
       "version_minor": 0
      },
      "text/plain": [
       "HBox(children=(IntProgress(value=0, description='Trainning', max=865, style=ProgressStyle(description_width='i…"
      ]
     },
     "metadata": {},
     "output_type": "display_data"
    },
    {
     "name": "stdout",
     "output_type": "stream",
     "text": [
      "Validation loss: 0.11824268175436745\n",
      "Validation Accuracy: 0.797527877339705\n",
      "F1-Score: 0.17783835355049749\n",
      "- Time elasped: 258.73578 seconds\n",
      "\n",
      "* [Epoch 5/5]\n"
     ]
    },
    {
     "data": {
      "application/vnd.jupyter.widget-view+json": {
       "model_id": "",
       "version_major": 2,
       "version_minor": 0
      },
      "text/plain": [
       "HBox(children=(IntProgress(value=0, description='Trainning', max=865, style=ProgressStyle(description_width='i…"
      ]
     },
     "metadata": {},
     "output_type": "display_data"
    },
    {
     "name": "stdout",
     "output_type": "stream",
     "text": [
      "Train loss: 0.04862707594404202\n",
      "Validation loss: 0.13346591190296045\n",
      "Validation Accuracy: 0.793329350856233\n",
      "F1-Score: 0.18165233975510658\n",
      "- Time elasped: 258.73665 seconds\n",
      "\n"
     ]
    }
   ],
   "source": [
    "# data_merge, 75, B- I-\n",
    "net = model(bert_conf_path, bert_weight, num_class=len(classes))\n",
    "#net.train(train_dataloader, val_dataloader, 3, tags)\n",
    "#if pargs.full_trainning:\n",
    "net.full_trainning(True, lr=3e-5)\n",
    "net.train(train_dataloader, val_dataloader, 5, tags, )"
   ]
  },
  {
   "cell_type": "code",
   "execution_count": 4,
   "metadata": {},
   "outputs": [
    {
     "data": {
      "text/plain": [
       "28996"
      ]
     },
     "execution_count": 4,
     "metadata": {},
     "output_type": "execute_result"
    }
   ],
   "source": [
    "len(idx2token)"
   ]
  },
  {
   "cell_type": "code",
   "execution_count": 5,
   "metadata": {},
   "outputs": [
    {
     "name": "stdout",
     "output_type": "stream",
     "text": [
      "* [Epoch 1/5]\n"
     ]
    },
    {
     "data": {
      "application/vnd.jupyter.widget-view+json": {
       "model_id": "",
       "version_major": 2,
       "version_minor": 0
      },
      "text/plain": [
       "HBox(children=(IntProgress(value=0, description='Trainning', max=865, style=ProgressStyle(description_width='i…"
      ]
     },
     "metadata": {},
     "output_type": "display_data"
    },
    {
     "name": "stdout",
     "output_type": "stream",
     "text": [
      "Train loss: 0.6065715999961588\n",
      "Validation loss: 0.36782700368153154\n",
      "Validation Accuracy: 0.9060553564317007\n",
      "F1-Score: 0.24946287896872762\n",
      "- Time elasped: 239.66143 seconds\n",
      "\n",
      "* [Epoch 2/5]\n"
     ]
    },
    {
     "data": {
      "application/vnd.jupyter.widget-view+json": {
       "model_id": "",
       "version_major": 2,
       "version_minor": 0
      },
      "text/plain": [
       "HBox(children=(IntProgress(value=0, description='Trainning', max=865, style=ProgressStyle(description_width='i…"
      ]
     },
     "metadata": {},
     "output_type": "display_data"
    },
    {
     "name": "stdout",
     "output_type": "stream",
     "text": [
      "Train loss: 0.46858382633311213\n",
      "Validation loss: 0.322211183687692\n",
      "Validation Accuracy: 0.8797665272799683\n",
      "F1-Score: 0.24539021229941194\n",
      "- Time elasped: 240.74634 seconds\n",
      "\n",
      "* [Epoch 3/5]\n"
     ]
    },
    {
     "data": {
      "application/vnd.jupyter.widget-view+json": {
       "model_id": "",
       "version_major": 2,
       "version_minor": 0
      },
      "text/plain": [
       "HBox(children=(IntProgress(value=0, description='Trainning', max=865, style=ProgressStyle(description_width='i…"
      ]
     },
     "metadata": {},
     "output_type": "display_data"
    },
    {
     "name": "stdout",
     "output_type": "stream",
     "text": [
      "Train loss: 0.4499158659939132\n",
      "Validation loss: 0.3076923628968577\n",
      "Validation Accuracy: 0.8772710075667063\n",
      "F1-Score: 0.2541650889814464\n",
      "- Time elasped: 241.72147 seconds\n",
      "\n",
      "* [Epoch 4/5]\n"
     ]
    },
    {
     "data": {
      "application/vnd.jupyter.widget-view+json": {
       "model_id": "",
       "version_major": 2,
       "version_minor": 0
      },
      "text/plain": [
       "HBox(children=(IntProgress(value=0, description='Trainning', max=865, style=ProgressStyle(description_width='i…"
      ]
     },
     "metadata": {},
     "output_type": "display_data"
    },
    {
     "name": "stdout",
     "output_type": "stream",
     "text": [
      "Train loss: 0.44400927768966364\n",
      "Validation loss: 0.2980898146026878\n",
      "Validation Accuracy: 0.874847172441259\n",
      "F1-Score: 0.25975527507467\n",
      "- Time elasped: 241.75115 seconds\n",
      "\n",
      "* [Epoch 5/5]\n"
     ]
    },
    {
     "data": {
      "application/vnd.jupyter.widget-view+json": {
       "model_id": "",
       "version_major": 2,
       "version_minor": 0
      },
      "text/plain": [
       "HBox(children=(IntProgress(value=0, description='Trainning', max=865, style=ProgressStyle(description_width='i…"
      ]
     },
     "metadata": {},
     "output_type": "display_data"
    },
    {
     "name": "stdout",
     "output_type": "stream",
     "text": [
      "Train loss: 0.4403539225200697\n",
      "Validation loss: 0.28966915118758396\n",
      "Validation Accuracy: 0.8857272998805258\n",
      "F1-Score: 0.2802415157193421\n",
      "- Time elasped: 241.74171 seconds\n",
      "\n"
     ]
    }
   ],
   "source": [
    "# data_merge, 75, B- I-\n",
    "net = model(bert_conf_path, bert_weight, num_class=len(classes))\n",
    "#net.train(train_dataloader, val_dataloader, 3, tags)\n",
    "#if pargs.full_trainning:\n",
    "net.full_trainning(False, lr=1e-3)\n",
    "net.train(train_dataloader, val_dataloader, 5, tags, )"
   ]
  },
  {
   "cell_type": "code",
   "execution_count": 10,
   "metadata": {},
   "outputs": [],
   "source": [
    "net.save('./weights/pytorch_weight_c5_BI_75')"
   ]
  },
  {
   "cell_type": "code",
   "execution_count": 13,
   "metadata": {},
   "outputs": [],
   "source": [
    "net.best_loss = 0.28966915118758396"
   ]
  },
  {
   "cell_type": "code",
   "execution_count": 14,
   "metadata": {},
   "outputs": [
    {
     "name": "stdout",
     "output_type": "stream",
     "text": [
      "* [Epoch 6/8]\n"
     ]
    },
    {
     "data": {
      "application/vnd.jupyter.widget-view+json": {
       "model_id": "",
       "version_major": 2,
       "version_minor": 0
      },
      "text/plain": [
       "HBox(children=(IntProgress(value=0, description='Trainning', max=865, style=ProgressStyle(description_width='i…"
      ]
     },
     "metadata": {},
     "output_type": "display_data"
    },
    {
     "name": "stdout",
     "output_type": "stream",
     "text": [
      "Train loss: 0.43431955408843265\n",
      "Validation loss: 0.2886296662111436\n",
      "Validation Accuracy: 0.8734533054559935\n",
      "F1-Score: 0.2663546939165314\n",
      "- Time elasped: 240.13419 seconds\n",
      "\n",
      "Saving weight...\n",
      "\n",
      "* [Epoch 7/8]\n"
     ]
    },
    {
     "data": {
      "application/vnd.jupyter.widget-view+json": {
       "model_id": "",
       "version_major": 2,
       "version_minor": 0
      },
      "text/plain": [
       "HBox(children=(IntProgress(value=0, description='Trainning', max=865, style=ProgressStyle(description_width='i…"
      ]
     },
     "metadata": {},
     "output_type": "display_data"
    },
    {
     "name": "stdout",
     "output_type": "stream",
     "text": [
      "Train loss: 0.4346795910872476\n",
      "Validation loss: 0.28708804679173294\n",
      "Validation Accuracy: 0.879454898446834\n",
      "F1-Score: 0.26910413288122265\n",
      "- Time elasped: 240.86744 seconds\n",
      "\n",
      "Saving weight...\n",
      "\n",
      "* [Epoch 8/8]\n"
     ]
    },
    {
     "data": {
      "application/vnd.jupyter.widget-view+json": {
       "model_id": "",
       "version_major": 2,
       "version_minor": 0
      },
      "text/plain": [
       "HBox(children=(IntProgress(value=0, description='Trainning', max=865, style=ProgressStyle(description_width='i…"
      ]
     },
     "metadata": {},
     "output_type": "display_data"
    },
    {
     "name": "stdout",
     "output_type": "stream",
     "text": [
      "Train loss: 0.43459020105400525\n",
      "Validation loss: 0.28776128718288996\n",
      "Validation Accuracy: 0.8768339307048989\n",
      "F1-Score: 0.2655834421393684\n",
      "- Time elasped: 240.75932 seconds\n",
      "\n"
     ]
    }
   ],
   "source": [
    "net.full_trainning(False, lr=1e-4)\n",
    "net.train(train_dataloader, val_dataloader, 3, \n",
    "          tags, save_weight_path='./weights/pytorch_weight_c5_BI_75', start_save=1)"
   ]
  },
  {
   "cell_type": "code",
   "execution_count": 15,
   "metadata": {},
   "outputs": [
    {
     "name": "stdout",
     "output_type": "stream",
     "text": [
      "* [Epoch 9/11]\n"
     ]
    },
    {
     "data": {
      "application/vnd.jupyter.widget-view+json": {
       "model_id": "",
       "version_major": 2,
       "version_minor": 0
      },
      "text/plain": [
       "HBox(children=(IntProgress(value=0, description='Trainning', max=865, style=ProgressStyle(description_width='i…"
      ]
     },
     "metadata": {},
     "output_type": "display_data"
    },
    {
     "name": "stdout",
     "output_type": "stream",
     "text": [
      "Train loss: 0.19923731341441242\n",
      "Validation loss: 0.13230405773927448\n",
      "Validation Accuracy: 0.7800119474313024\n",
      "F1-Score: 0.1982515756149981\n",
      "- Time elasped: 256.47082 seconds\n",
      "\n",
      "Saving weight...\n",
      "\n",
      "* [Epoch 10/11]\n"
     ]
    },
    {
     "data": {
      "application/vnd.jupyter.widget-view+json": {
       "model_id": "",
       "version_major": 2,
       "version_minor": 0
      },
      "text/plain": [
       "HBox(children=(IntProgress(value=0, description='Trainning', max=865, style=ProgressStyle(description_width='i…"
      ]
     },
     "metadata": {},
     "output_type": "display_data"
    },
    {
     "name": "stdout",
     "output_type": "stream",
     "text": [
      "Train loss: 0.11451297699759116\n",
      "Validation loss: 0.10842876913406516\n",
      "Validation Accuracy: 0.8090038829151732\n",
      "F1-Score: 0.21890642435836125\n",
      "- Time elasped: 257.82214 seconds\n",
      "\n",
      "Saving weight...\n",
      "\n",
      "* [Epoch 11/11]\n"
     ]
    },
    {
     "data": {
      "application/vnd.jupyter.widget-view+json": {
       "model_id": "",
       "version_major": 2,
       "version_minor": 0
      },
      "text/plain": [
       "HBox(children=(IntProgress(value=0, description='Trainning', max=865, style=ProgressStyle(description_width='i…"
      ]
     },
     "metadata": {},
     "output_type": "display_data"
    },
    {
     "name": "stdout",
     "output_type": "stream",
     "text": [
      "Train loss: 0.08366370519833112\n",
      "Validation loss: 0.1108926516727254\n",
      "Validation Accuracy: 0.8138620071684589\n",
      "F1-Score: 0.21381273593662975\n",
      "- Time elasped: 257.89287 seconds\n",
      "\n"
     ]
    }
   ],
   "source": [
    "net.full_trainning(True, lr=3e-5)\n",
    "net.train(train_dataloader, val_dataloader, 3, \n",
    "          tags, save_weight_path='./weights/pytorch_weight_c5_BI_75', start_save=1)"
   ]
  },
  {
   "cell_type": "code",
   "execution_count": null,
   "metadata": {},
   "outputs": [],
   "source": []
  },
  {
   "cell_type": "code",
   "execution_count": 5,
   "metadata": {
    "scrolled": false
   },
   "outputs": [
    {
     "name": "stdout",
     "output_type": "stream",
     "text": [
      "* [Epoch 1/5]\n"
     ]
    },
    {
     "data": {
      "application/vnd.jupyter.widget-view+json": {
       "model_id": "",
       "version_major": 2,
       "version_minor": 0
      },
      "text/plain": [
       "HBox(children=(IntProgress(value=0, description='Trainning', max=865, style=ProgressStyle(description_width='i…"
      ]
     },
     "metadata": {},
     "output_type": "display_data"
    },
    {
     "name": "stdout",
     "output_type": "stream",
     "text": [
      "Train loss: 0.2303585839237092\n",
      "Validation loss: 0.12793356797067068\n",
      "Validation Accuracy: 0.8070932895260854\n",
      "F1-Score: 0.20276914382593952\n",
      "- Time elasped: 256.56664 seconds\n",
      "\n",
      "* [Epoch 2/5]\n"
     ]
    },
    {
     "data": {
      "application/vnd.jupyter.widget-view+json": {
       "model_id": "",
       "version_major": 2,
       "version_minor": 0
      },
      "text/plain": [
       "HBox(children=(IntProgress(value=0, description='Trainning', max=865, style=ProgressStyle(description_width='i…"
      ]
     },
     "metadata": {},
     "output_type": "display_data"
    },
    {
     "name": "stdout",
     "output_type": "stream",
     "text": [
      "Train loss: 0.105625930463766\n",
      "Validation loss: 0.1126248783742388\n",
      "Validation Accuracy: 0.8038644962166471\n",
      "F1-Score: 0.226532732940769\n",
      "- Time elasped: 257.75176 seconds\n",
      "\n",
      "* [Epoch 3/5]\n"
     ]
    },
    {
     "data": {
      "application/vnd.jupyter.widget-view+json": {
       "model_id": "",
       "version_major": 2,
       "version_minor": 0
      },
      "text/plain": [
       "HBox(children=(IntProgress(value=0, description='Trainning', max=865, style=ProgressStyle(description_width='i…"
      ]
     },
     "metadata": {},
     "output_type": "display_data"
    },
    {
     "name": "stdout",
     "output_type": "stream",
     "text": [
      "Train loss: 0.07561611712619533\n",
      "Validation loss: 0.12829524640154133\n",
      "Validation Accuracy: 0.8150243926722424\n",
      "F1-Score: 0.23209010939072292\n",
      "- Time elasped: 257.75839 seconds\n",
      "\n",
      "* [Epoch 4/5]\n"
     ]
    },
    {
     "data": {
      "application/vnd.jupyter.widget-view+json": {
       "model_id": "",
       "version_major": 2,
       "version_minor": 0
      },
      "text/plain": [
       "HBox(children=(IntProgress(value=0, description='Trainning', max=865, style=ProgressStyle(description_width='i…"
      ]
     },
     "metadata": {},
     "output_type": "display_data"
    },
    {
     "name": "stdout",
     "output_type": "stream",
     "text": [
      "Train loss: 0.059935594448076855\n",
      "Validation loss: 0.11596317499154998\n",
      "Validation Accuracy: 0.816752289924333\n",
      "F1-Score: 0.22242230432487817\n",
      "- Time elasped: 257.76527 seconds\n",
      "\n",
      "* [Epoch 5/5]\n"
     ]
    },
    {
     "data": {
      "application/vnd.jupyter.widget-view+json": {
       "model_id": "",
       "version_major": 2,
       "version_minor": 0
      },
      "text/plain": [
       "HBox(children=(IntProgress(value=0, description='Trainning', max=865, style=ProgressStyle(description_width='i…"
      ]
     },
     "metadata": {},
     "output_type": "display_data"
    },
    {
     "name": "stdout",
     "output_type": "stream",
     "text": [
      "Train loss: 0.05011480832001399\n",
      "Validation loss: 0.1247852477345175\n",
      "Validation Accuracy: 0.8111195738749505\n",
      "F1-Score: 0.21853077834127974\n",
      "- Time elasped: 257.76243 seconds\n",
      "\n"
     ]
    }
   ],
   "source": [
    "# data_merge, 75, B- I-\n",
    "net = model(bert_conf_path, bert_weight, num_class=len(classes))\n",
    "#net.train(train_dataloader, val_dataloader, 3, tags)\n",
    "#if pargs.full_trainning:\n",
    "#net.full_trainning(True, lr=3e-5)\n",
    "net.train(train_dataloader, val_dataloader, 5, tags, )"
   ]
  },
  {
   "cell_type": "code",
   "execution_count": 6,
   "metadata": {},
   "outputs": [
    {
     "name": "stdout",
     "output_type": "stream",
     "text": [
      "* [Epoch 6/8]\n"
     ]
    },
    {
     "data": {
      "application/vnd.jupyter.widget-view+json": {
       "model_id": "",
       "version_major": 2,
       "version_minor": 0
      },
      "text/plain": [
       "HBox(children=(IntProgress(value=0, description='Trainning', max=865, style=ProgressStyle(description_width='i…"
      ]
     },
     "metadata": {},
     "output_type": "display_data"
    },
    {
     "name": "stdout",
     "output_type": "stream",
     "text": [
      "Train loss: 0.03854928536164289\n",
      "Validation loss: 0.13062799798064334\n",
      "Validation Accuracy: 0.8006725408203904\n",
      "F1-Score: 0.20673569234270112\n",
      "- Time elasped: 240.64433 seconds\n",
      "\n",
      "* [Epoch 7/8]\n"
     ]
    },
    {
     "data": {
      "application/vnd.jupyter.widget-view+json": {
       "model_id": "",
       "version_major": 2,
       "version_minor": 0
      },
      "text/plain": [
       "HBox(children=(IntProgress(value=0, description='Trainning', max=865, style=ProgressStyle(description_width='i…"
      ]
     },
     "metadata": {},
     "output_type": "display_data"
    },
    {
     "name": "stdout",
     "output_type": "stream",
     "text": [
      "Train loss: 0.03830348537397716\n",
      "Validation loss: 0.13354575204392594\n",
      "Validation Accuracy: 0.8053599163679809\n",
      "F1-Score: 0.21320993840077812\n",
      "- Time elasped: 240.94253 seconds\n",
      "\n",
      "* [Epoch 8/8]\n"
     ]
    },
    {
     "data": {
      "application/vnd.jupyter.widget-view+json": {
       "model_id": "",
       "version_major": 2,
       "version_minor": 0
      },
      "text/plain": [
       "HBox(children=(IntProgress(value=0, description='Trainning', max=865, style=ProgressStyle(description_width='i…"
      ]
     },
     "metadata": {},
     "output_type": "display_data"
    },
    {
     "name": "stdout",
     "output_type": "stream",
     "text": [
      "Train loss: 0.03671303444677921\n",
      "Validation loss: 0.13255577644593614\n",
      "Validation Accuracy: 0.8102832536837914\n",
      "F1-Score: 0.21609140252496475\n",
      "- Time elasped: 240.96596 seconds\n",
      "\n"
     ]
    }
   ],
   "source": [
    "net.full_trainning(False, lr=1e-3)\n",
    "net.train(train_dataloader, val_dataloader, 3, tags, )"
   ]
  },
  {
   "cell_type": "code",
   "execution_count": 45,
   "metadata": {},
   "outputs": [],
   "source": [
    "torch.cuda.empty_cache()"
   ]
  },
  {
   "cell_type": "code",
   "execution_count": 5,
   "metadata": {},
   "outputs": [
    {
     "name": "stdout",
     "output_type": "stream",
     "text": [
      "* [Epoch 1/5]\n"
     ]
    },
    {
     "data": {
      "application/vnd.jupyter.widget-view+json": {
       "model_id": "",
       "version_major": 2,
       "version_minor": 0
      },
      "text/plain": [
       "HBox(children=(IntProgress(value=0, description='Trainning', max=865, style=ProgressStyle(description_width='i…"
      ]
     },
     "metadata": {},
     "output_type": "display_data"
    },
    {
     "name": "stdout",
     "output_type": "stream",
     "text": [
      "Train loss: 1.2233536166262764\n",
      "Validation loss: 0.9688624848601639\n",
      "Validation Accuracy: 0.9645474910394265\n",
      "F1-Score: 0\n",
      "- Time elasped: 239.65294 seconds\n",
      "\n",
      "* [Epoch 2/5]\n"
     ]
    },
    {
     "data": {
      "application/vnd.jupyter.widget-view+json": {
       "model_id": "",
       "version_major": 2,
       "version_minor": 0
      },
      "text/plain": [
       "HBox(children=(IntProgress(value=0, description='Trainning', max=865, style=ProgressStyle(description_width='i…"
      ]
     },
     "metadata": {},
     "output_type": "display_data"
    },
    {
     "name": "stdout",
     "output_type": "stream",
     "text": [
      "Train loss: 0.9547568614083218\n",
      "Validation loss: 0.8759374298075194\n",
      "Validation Accuracy: 0.9657213261648744\n",
      "F1-Score: 0.09523809523809523\n",
      "- Time elasped: 240.68785 seconds\n",
      "\n",
      "* [Epoch 3/5]\n"
     ]
    },
    {
     "data": {
      "application/vnd.jupyter.widget-view+json": {
       "model_id": "",
       "version_major": 2,
       "version_minor": 0
      },
      "text/plain": [
       "HBox(children=(IntProgress(value=0, description='Trainning', max=865, style=ProgressStyle(description_width='i…"
      ]
     },
     "metadata": {},
     "output_type": "display_data"
    },
    {
     "name": "stdout",
     "output_type": "stream",
     "text": [
      "Train loss: 0.8899832332065339\n",
      "Validation loss: 0.8168568162507909\n",
      "Validation Accuracy: 0.9665750696933494\n",
      "F1-Score: 0.16201117318435754\n",
      "- Time elasped: 240.69607 seconds\n",
      "\n",
      "* [Epoch 4/5]\n"
     ]
    },
    {
     "data": {
      "application/vnd.jupyter.widget-view+json": {
       "model_id": "",
       "version_major": 2,
       "version_minor": 0
      },
      "text/plain": [
       "HBox(children=(IntProgress(value=0, description='Trainning', max=865, style=ProgressStyle(description_width='i…"
      ]
     },
     "metadata": {},
     "output_type": "display_data"
    },
    {
     "name": "stdout",
     "output_type": "stream",
     "text": [
      "Train loss: 0.8456278293119001\n",
      "Validation loss: 0.772936822265707\n",
      "Validation Accuracy: 0.9655560533651929\n",
      "F1-Score: 0.21498152502519316\n",
      "- Time elasped: 241.65152 seconds\n",
      "\n",
      "* [Epoch 5/5]\n"
     ]
    },
    {
     "data": {
      "application/vnd.jupyter.widget-view+json": {
       "model_id": "",
       "version_major": 2,
       "version_minor": 0
      },
      "text/plain": [
       "HBox(children=(IntProgress(value=0, description='Trainning', max=865, style=ProgressStyle(description_width='i…"
      ]
     },
     "metadata": {},
     "output_type": "display_data"
    },
    {
     "name": "stdout",
     "output_type": "stream",
     "text": [
      "Train loss: 0.8106599293003193\n",
      "Validation loss: 0.7384282485131295\n",
      "Validation Accuracy: 0.9568389088012744\n",
      "F1-Score: 0.2021377672209026\n",
      "- Time elasped: 241.65977 seconds\n",
      "\n"
     ]
    }
   ],
   "source": [
    "# data_merge, 75, B- I-\n",
    "net = model(bert_conf_path, bert_weight, num_class=len(classes))\n",
    "#if pargs.full_trainning:\n",
    "#net.full_trainning(True)\n",
    "net.train(train_dataloader, val_dataloader, 5, tags)"
   ]
  },
  {
   "cell_type": "code",
   "execution_count": 6,
   "metadata": {},
   "outputs": [],
   "source": [
    "torch.cuda.empty_cache()"
   ]
  },
  {
   "cell_type": "code",
   "execution_count": 7,
   "metadata": {},
   "outputs": [
    {
     "name": "stdout",
     "output_type": "stream",
     "text": [
      "* [Epoch 1/5]\n"
     ]
    },
    {
     "data": {
      "application/vnd.jupyter.widget-view+json": {
       "model_id": "",
       "version_major": 2,
       "version_minor": 0
      },
      "text/plain": [
       "HBox(children=(IntProgress(value=0, description='Trainning', max=865, style=ProgressStyle(description_width='i…"
      ]
     },
     "metadata": {},
     "output_type": "display_data"
    },
    {
     "name": "stdout",
     "output_type": "stream",
     "text": [
      "Train loss: 0.3282449026672826\n",
      "Validation loss: 0.21582572482606416\n",
      "Validation Accuracy: 0.8040805455993628\n",
      "F1-Score: 0.19134624409473455\n",
      "- Time elasped: 258.15576 seconds\n",
      "\n",
      "* [Epoch 2/5]\n"
     ]
    },
    {
     "data": {
      "application/vnd.jupyter.widget-view+json": {
       "model_id": "",
       "version_major": 2,
       "version_minor": 0
      },
      "text/plain": [
       "HBox(children=(IntProgress(value=0, description='Trainning', max=865, style=ProgressStyle(description_width='i…"
      ]
     },
     "metadata": {},
     "output_type": "display_data"
    },
    {
     "name": "stdout",
     "output_type": "stream",
     "text": [
      "Train loss: 0.17961353758064696\n",
      "Validation loss: 0.18102113642199066\n",
      "Validation Accuracy: 0.7921196734368776\n",
      "F1-Score: 0.19250321553255345\n",
      "- Time elasped: 258.71491 seconds\n",
      "\n",
      "* [Epoch 3/5]\n"
     ]
    },
    {
     "data": {
      "application/vnd.jupyter.widget-view+json": {
       "model_id": "",
       "version_major": 2,
       "version_minor": 0
      },
      "text/plain": [
       "HBox(children=(IntProgress(value=0, description='Trainning', max=865, style=ProgressStyle(description_width='i…"
      ]
     },
     "metadata": {},
     "output_type": "display_data"
    },
    {
     "name": "stdout",
     "output_type": "stream",
     "text": [
      "Train loss: 0.1310776752845056\n",
      "Validation loss: 0.17988179844393526\n",
      "Validation Accuracy: 0.7801637793707686\n",
      "F1-Score: 0.18489315506799223\n",
      "- Time elasped: 258.72007 seconds\n",
      "\n",
      "* [Epoch 4/5]\n"
     ]
    },
    {
     "data": {
      "application/vnd.jupyter.widget-view+json": {
       "model_id": "",
       "version_major": 2,
       "version_minor": 0
      },
      "text/plain": [
       "HBox(children=(IntProgress(value=0, description='Trainning', max=865, style=ProgressStyle(description_width='i…"
      ]
     },
     "metadata": {},
     "output_type": "display_data"
    },
    {
     "name": "stdout",
     "output_type": "stream",
     "text": [
      "Train loss: 0.09792468825333639\n",
      "Validation loss: 0.1764392874413921\n",
      "Validation Accuracy: 0.7994205495818401\n",
      "F1-Score: 0.20582936559001414\n",
      "- Time elasped: 258.73724 seconds\n",
      "\n",
      "* [Epoch 5/5]\n"
     ]
    },
    {
     "data": {
      "application/vnd.jupyter.widget-view+json": {
       "model_id": "",
       "version_major": 2,
       "version_minor": 0
      },
      "text/plain": [
       "HBox(children=(IntProgress(value=0, description='Trainning', max=865, style=ProgressStyle(description_width='i…"
      ]
     },
     "metadata": {},
     "output_type": "display_data"
    },
    {
     "name": "stdout",
     "output_type": "stream",
     "text": [
      "Train loss: 0.07623151234496449\n",
      "Validation loss: 0.17971941715567022\n",
      "Validation Accuracy: 0.7833059538032655\n",
      "F1-Score: 0.19072543888023055\n",
      "- Time elasped: 258.73108 seconds\n",
      "\n"
     ]
    }
   ],
   "source": [
    "# data_merge, 75, B- I-\n",
    "net = model(bert_conf_path, bert_weight, num_class=len(classes))\n",
    "#if pargs.full_trainning:\n",
    "net.full_trainning(True)\n",
    "net.train(train_dataloader, val_dataloader, 5, tags)"
   ]
  },
  {
   "cell_type": "code",
   "execution_count": 35,
   "metadata": {},
   "outputs": [
    {
     "name": "stdout",
     "output_type": "stream",
     "text": [
      "* Epoch 1/5\n"
     ]
    },
    {
     "data": {
      "application/vnd.jupyter.widget-view+json": {
       "model_id": "",
       "version_major": 2,
       "version_minor": 0
      },
      "text/plain": [
       "HBox(children=(IntProgress(value=0, description='Trainning', max=865, style=ProgressStyle(description_width='i…"
      ]
     },
     "metadata": {},
     "output_type": "display_data"
    },
    {
     "name": "stdout",
     "output_type": "stream",
     "text": [
      "Train loss: 0.7767092314069671\n",
      "Validation loss: 0.6776529454415844\n",
      "Validation Accuracy: 0.9626744111623142\n",
      "F1-Score: 0.1673917547130723\n",
      "- Time elasped: 221.30184 seconds\n",
      "\n",
      "* Epoch 2/5\n"
     ]
    },
    {
     "data": {
      "application/vnd.jupyter.widget-view+json": {
       "model_id": "",
       "version_major": 2,
       "version_minor": 0
      },
      "text/plain": [
       "HBox(children=(IntProgress(value=0, description='Trainning', max=865, style=ProgressStyle(description_width='i…"
      ]
     },
     "metadata": {},
     "output_type": "display_data"
    },
    {
     "name": "stdout",
     "output_type": "stream",
     "text": [
      "Train loss: 0.6740446681921193\n",
      "Validation loss: 0.6228917244301048\n",
      "Validation Accuracy: 0.9614183307731695\n",
      "F1-Score: 0.24084834398605462\n",
      "- Time elasped: 222.80021 seconds\n",
      "\n",
      "* Epoch 3/5\n"
     ]
    },
    {
     "data": {
      "application/vnd.jupyter.widget-view+json": {
       "model_id": "",
       "version_major": 2,
       "version_minor": 0
      },
      "text/plain": [
       "HBox(children=(IntProgress(value=0, description='Trainning', max=865, style=ProgressStyle(description_width='i…"
      ]
     },
     "metadata": {},
     "output_type": "display_data"
    },
    {
     "name": "stdout",
     "output_type": "stream",
     "text": [
      "Train loss: 0.6383705690761522\n",
      "Validation loss: 0.5893261019260653\n",
      "Validation Accuracy: 0.9524428230073393\n",
      "F1-Score: 0.21150997150997153\n",
      "- Time elasped: 223.23352 seconds\n",
      "\n",
      "* Epoch 4/5\n"
     ]
    },
    {
     "data": {
      "application/vnd.jupyter.widget-view+json": {
       "model_id": "",
       "version_major": 2,
       "version_minor": 0
      },
      "text/plain": [
       "HBox(children=(IntProgress(value=0, description='Trainning', max=865, style=ProgressStyle(description_width='i…"
      ]
     },
     "metadata": {},
     "output_type": "display_data"
    },
    {
     "name": "stdout",
     "output_type": "stream",
     "text": [
      "Train loss: 0.6128555726798284\n",
      "Validation loss: 0.5642693651619778\n",
      "Validation Accuracy: 0.9405529953917047\n",
      "F1-Score: 0.19057226705796038\n",
      "- Time elasped: 223.23152 seconds\n",
      "\n",
      "* Epoch 5/5\n"
     ]
    },
    {
     "data": {
      "application/vnd.jupyter.widget-view+json": {
       "model_id": "",
       "version_major": 2,
       "version_minor": 0
      },
      "text/plain": [
       "HBox(children=(IntProgress(value=0, description='Trainning', max=865, style=ProgressStyle(description_width='i…"
      ]
     },
     "metadata": {},
     "output_type": "display_data"
    },
    {
     "name": "stdout",
     "output_type": "stream",
     "text": [
      "Train loss: 0.5959358728345419\n",
      "Validation loss: 0.545417748151287\n",
      "Validation Accuracy: 0.9334314729476015\n",
      "F1-Score: 0.17848512623948004\n",
      "- Time elasped: 223.23107 seconds\n",
      "\n"
     ]
    }
   ],
   "source": [
    "# entity\n",
    "net = model(bert_conf_path, bert_weight, num_class=len(classes))\n",
    "#if pargs.full_trainning:\n",
    "#    net.full_trainning(True)\n",
    "net.train(train_dataloader, val_dataloader, 5, tags)"
   ]
  },
  {
   "cell_type": "code",
   "execution_count": 37,
   "metadata": {},
   "outputs": [
    {
     "name": "stdout",
     "output_type": "stream",
     "text": [
      "* [Epoch 6/10]\n"
     ]
    },
    {
     "data": {
      "application/vnd.jupyter.widget-view+json": {
       "model_id": "",
       "version_major": 2,
       "version_minor": 0
      },
      "text/plain": [
       "HBox(children=(IntProgress(value=0, description='Trainning', max=865, style=ProgressStyle(description_width='i…"
      ]
     },
     "metadata": {},
     "output_type": "display_data"
    },
    {
     "name": "stdout",
     "output_type": "stream",
     "text": [
      "Train loss: 0.22382781350974404\n",
      "Validation loss: 0.14831092360840048\n",
      "Validation Accuracy: 0.7987855222734253\n",
      "F1-Score: 0.1999629469523868\n",
      "- Time elasped: 239.23929 seconds\n",
      "\n",
      "* [Epoch 7/10]\n"
     ]
    },
    {
     "data": {
      "application/vnd.jupyter.widget-view+json": {
       "model_id": "",
       "version_major": 2,
       "version_minor": 0
      },
      "text/plain": [
       "HBox(children=(IntProgress(value=0, description='Trainning', max=865, style=ProgressStyle(description_width='i…"
      ]
     },
     "metadata": {},
     "output_type": "display_data"
    },
    {
     "name": "stdout",
     "output_type": "stream",
     "text": [
      "Train loss: 0.13584484790015772\n",
      "Validation loss: 0.1205933511817968\n",
      "Validation Accuracy: 0.8202626301416627\n",
      "F1-Score: 0.3238253394549184\n",
      "- Time elasped: 240.48876 seconds\n",
      "\n",
      "* [Epoch 8/10]\n"
     ]
    },
    {
     "data": {
      "application/vnd.jupyter.widget-view+json": {
       "model_id": "",
       "version_major": 2,
       "version_minor": 0
      },
      "text/plain": [
       "HBox(children=(IntProgress(value=0, description='Trainning', max=865, style=ProgressStyle(description_width='i…"
      ]
     },
     "metadata": {},
     "output_type": "display_data"
    },
    {
     "name": "stdout",
     "output_type": "stream",
     "text": [
      "Train loss: 0.1014438145040303\n",
      "Validation loss: 0.1295681462212596\n",
      "Validation Accuracy: 0.8242020822665985\n",
      "F1-Score: 0.2844216816047802\n",
      "- Time elasped: 240.35007 seconds\n",
      "\n",
      "* [Epoch 9/10]\n"
     ]
    },
    {
     "data": {
      "application/vnd.jupyter.widget-view+json": {
       "model_id": "",
       "version_major": 2,
       "version_minor": 0
      },
      "text/plain": [
       "HBox(children=(IntProgress(value=0, description='Trainning', max=865, style=ProgressStyle(description_width='i…"
      ]
     },
     "metadata": {},
     "output_type": "display_data"
    },
    {
     "name": "stdout",
     "output_type": "stream",
     "text": [
      "Train loss: 0.08033746504520922\n",
      "Validation loss: 0.11847440671095605\n",
      "Validation Accuracy: 0.8029015190305513\n",
      "F1-Score: 0.30228925877995444\n",
      "- Time elasped: 240.36267 seconds\n",
      "\n",
      "* [Epoch 10/10]\n"
     ]
    },
    {
     "data": {
      "application/vnd.jupyter.widget-view+json": {
       "model_id": "",
       "version_major": 2,
       "version_minor": 0
      },
      "text/plain": [
       "HBox(children=(IntProgress(value=0, description='Trainning', max=865, style=ProgressStyle(description_width='i…"
      ]
     },
     "metadata": {},
     "output_type": "display_data"
    },
    {
     "name": "stdout",
     "output_type": "stream",
     "text": [
      "Train loss: 0.05925127184502996\n",
      "Validation loss: 0.13416981991500623\n",
      "Validation Accuracy: 0.8272369431643626\n",
      "F1-Score: 0.32051160587399335\n",
      "- Time elasped: 240.37113 seconds\n",
      "\n"
     ]
    }
   ],
   "source": [
    "# entity\n",
    "torch.cuda.empty_cache()\n",
    "net.full_trainning(True)\n",
    "net.train(train_dataloader, val_dataloader, 5, tags)"
   ]
  },
  {
   "cell_type": "code",
   "execution_count": 4,
   "metadata": {},
   "outputs": [
    {
     "data": {
      "text/plain": [
       "'weights/pytorch_weight'"
      ]
     },
     "execution_count": 4,
     "metadata": {},
     "output_type": "execute_result"
    }
   ],
   "source": [
    "bert_weight"
   ]
  },
  {
   "cell_type": "code",
   "execution_count": 3,
   "metadata": {},
   "outputs": [
    {
     "name": "stdout",
     "output_type": "stream",
     "text": [
      "* Epoch 0/5\n"
     ]
    },
    {
     "data": {
      "application/vnd.jupyter.widget-view+json": {
       "model_id": "",
       "version_major": 2,
       "version_minor": 0
      },
      "text/plain": [
       "HBox(children=(IntProgress(value=0, description='Trainning', max=513, style=ProgressStyle(description_width='i…"
      ]
     },
     "metadata": {},
     "output_type": "display_data"
    },
    {
     "name": "stdout",
     "output_type": "stream",
     "text": [
      "Train loss: 1.2641251864489058\n",
      "Validation loss: 1.198630640283227\n",
      "Validation Accuracy: 0.9722859700520833\n",
      "F1-Score: 0\n",
      "- Time elasped: 218.72109 seconds\n",
      "\n",
      "* Epoch 1/5\n"
     ]
    },
    {
     "data": {
      "application/vnd.jupyter.widget-view+json": {
       "model_id": "",
       "version_major": 2,
       "version_minor": 0
      },
      "text/plain": [
       "HBox(children=(IntProgress(value=0, description='Trainning', max=513, style=ProgressStyle(description_width='i…"
      ]
     },
     "metadata": {},
     "output_type": "display_data"
    },
    {
     "name": "stdout",
     "output_type": "stream",
     "text": [
      "Train loss: 0.9404581852591294\n",
      "Validation loss: 1.1613129610195756\n",
      "Validation Accuracy: 0.9722859700520833\n",
      "F1-Score: 0\n",
      "- Time elasped: 219.67960 seconds\n",
      "\n",
      "* Epoch 2/5\n"
     ]
    },
    {
     "data": {
      "application/vnd.jupyter.widget-view+json": {
       "model_id": "",
       "version_major": 2,
       "version_minor": 0
      },
      "text/plain": [
       "HBox(children=(IntProgress(value=0, description='Trainning', max=513, style=ProgressStyle(description_width='i…"
      ]
     },
     "metadata": {},
     "output_type": "display_data"
    },
    {
     "name": "stdout",
     "output_type": "stream",
     "text": [
      "Train loss: 0.8985092512115865\n",
      "Validation loss: 1.1309438738971949\n",
      "Validation Accuracy: 0.9722859700520833\n",
      "F1-Score: 0\n",
      "- Time elasped: 220.54584 seconds\n",
      "\n",
      "* Epoch 3/5\n"
     ]
    },
    {
     "data": {
      "application/vnd.jupyter.widget-view+json": {
       "model_id": "",
       "version_major": 2,
       "version_minor": 0
      },
      "text/plain": [
       "HBox(children=(IntProgress(value=0, description='Trainning', max=513, style=ProgressStyle(description_width='i…"
      ]
     },
     "metadata": {},
     "output_type": "display_data"
    },
    {
     "name": "stdout",
     "output_type": "stream",
     "text": [
      "Train loss: 0.8755844452692519\n",
      "Validation loss: 1.105752119794488\n",
      "Validation Accuracy: 0.9723673502604167\n",
      "F1-Score: 0\n",
      "- Time elasped: 220.55010 seconds\n",
      "\n",
      "* Epoch 4/5\n"
     ]
    },
    {
     "data": {
      "application/vnd.jupyter.widget-view+json": {
       "model_id": "",
       "version_major": 2,
       "version_minor": 0
      },
      "text/plain": [
       "HBox(children=(IntProgress(value=0, description='Trainning', max=513, style=ProgressStyle(description_width='i…"
      ]
     },
     "metadata": {},
     "output_type": "display_data"
    },
    {
     "name": "stdout",
     "output_type": "stream",
     "text": [
      "Train loss: 0.8594083430474264\n",
      "Validation loss: 1.0901905577629805\n",
      "Validation Accuracy: 0.9725789388020831\n",
      "F1-Score: 0\n",
      "- Time elasped: 220.55937 seconds\n",
      "\n"
     ]
    }
   ],
   "source": [
    "net = model(bert_conf_path, bert_weight, num_class=len(classes))\n",
    "#if pargs.full_trainning:\n",
    "#    net.full_trainning(True)\n",
    "net.train(train_dataloader, val_dataloader, 5, tags)"
   ]
  },
  {
   "cell_type": "code",
   "execution_count": null,
   "metadata": {},
   "outputs": [],
   "source": [
    "net.b_model()"
   ]
  },
  {
   "cell_type": "code",
   "execution_count": 4,
   "metadata": {},
   "outputs": [],
   "source": [
    "import torch"
   ]
  },
  {
   "cell_type": "code",
   "execution_count": 5,
   "metadata": {},
   "outputs": [],
   "source": [
    "torch.save(net.b_model.state_dict(), './weights/pytorch_weight_bi')"
   ]
  },
  {
   "cell_type": "code",
   "execution_count": 8,
   "metadata": {},
   "outputs": [],
   "source": [
    "ret = net.predict(val_dataloader, tags)"
   ]
  },
  {
   "cell_type": "code",
   "execution_count": 28,
   "metadata": {},
   "outputs": [
    {
     "ename": "IndexError",
     "evalue": "index 3000 is out of bounds for axis 0 with size 2048",
     "output_type": "error",
     "traceback": [
      "\u001b[0;31m---------------------------------------------------------------------------\u001b[0m",
      "\u001b[0;31mIndexError\u001b[0m                                Traceback (most recent call last)",
      "\u001b[0;32m<ipython-input-28-7e2263d77a92>\u001b[0m in \u001b[0;36m<module>\u001b[0;34m\u001b[0m\n\u001b[0;32m----> 1\u001b[0;31m \u001b[0mret\u001b[0m\u001b[0;34m[\u001b[0m\u001b[0;34m'pred'\u001b[0m\u001b[0;34m]\u001b[0m\u001b[0;34m[\u001b[0m\u001b[0;36m3000\u001b[0m\u001b[0;34m]\u001b[0m\u001b[0;34m\u001b[0m\u001b[0;34m\u001b[0m\u001b[0m\n\u001b[0m",
      "\u001b[0;31mIndexError\u001b[0m: index 3000 is out of bounds for axis 0 with size 2048"
     ]
    }
   ],
   "source": [
    "ret['pred'][3000]"
   ]
  },
  {
   "cell_type": "code",
   "execution_count": 11,
   "metadata": {},
   "outputs": [
    {
     "data": {
      "text/plain": [
       "array([[1, 4, 0, ..., 0, 0, 0],\n",
       "       [0, 0, 0, ..., 0, 0, 0],\n",
       "       [0, 0, 0, ..., 0, 0, 0],\n",
       "       ...,\n",
       "       [1, 0, 0, ..., 0, 0, 0],\n",
       "       [0, 0, 0, ..., 0, 0, 0],\n",
       "       [0, 0, 0, ..., 0, 0, 0]])"
      ]
     },
     "execution_count": 11,
     "metadata": {},
     "output_type": "execute_result"
    }
   ],
   "source": [
    "ret['truth']"
   ]
  },
  {
   "cell_type": "code",
   "execution_count": 29,
   "metadata": {},
   "outputs": [
    {
     "data": {
      "text/plain": [
       "72"
      ]
     },
     "execution_count": 29,
     "metadata": {},
     "output_type": "execute_result"
    }
   ],
   "source": [
    "np.sum(ret['pred'] != 0)"
   ]
  },
  {
   "cell_type": "code",
   "execution_count": 31,
   "metadata": {},
   "outputs": [
    {
     "data": {
      "text/plain": [
       "6811"
      ]
     },
     "execution_count": 31,
     "metadata": {},
     "output_type": "execute_result"
    }
   ],
   "source": [
    "np.sum(ret['truth'] != 0)"
   ]
  },
  {
   "cell_type": "code",
   "execution_count": 5,
   "metadata": {},
   "outputs": [
    {
     "name": "stdout",
     "output_type": "stream",
     "text": [
      "* Epoch 1/5\n"
     ]
    },
    {
     "data": {
      "application/vnd.jupyter.widget-view+json": {
       "model_id": "",
       "version_major": 2,
       "version_minor": 0
      },
      "text/plain": [
       "HBox(children=(IntProgress(value=0, description='Trainning', max=513, style=ProgressStyle(description_width='i…"
      ]
     },
     "metadata": {},
     "output_type": "display_data"
    },
    {
     "name": "stdout",
     "output_type": "stream",
     "text": [
      "Train loss: 0.6624850909612332\n",
      "Validation loss: 0.5371756120584905\n",
      "Validation Accuracy: 0.7548967633928567\n",
      "F1-Score: 0.18036636918741192\n",
      "- Time elasped: 142.66065 seconds\n",
      "\n",
      "* Epoch 2/5\n"
     ]
    },
    {
     "data": {
      "application/vnd.jupyter.widget-view+json": {
       "model_id": "",
       "version_major": 2,
       "version_minor": 0
      },
      "text/plain": [
       "HBox(children=(IntProgress(value=0, description='Trainning', max=513, style=ProgressStyle(description_width='i…"
      ]
     },
     "metadata": {},
     "output_type": "display_data"
    },
    {
     "name": "stdout",
     "output_type": "stream",
     "text": [
      "Train loss: 0.41511274107366974\n",
      "Validation loss: 0.3238375778310001\n",
      "Validation Accuracy: 0.7467354910714287\n",
      "F1-Score: 0.18845763235748664\n",
      "- Time elasped: 143.73598 seconds\n",
      "\n",
      "* Epoch 3/5\n"
     ]
    },
    {
     "data": {
      "application/vnd.jupyter.widget-view+json": {
       "model_id": "",
       "version_major": 2,
       "version_minor": 0
      },
      "text/plain": [
       "HBox(children=(IntProgress(value=0, description='Trainning', max=513, style=ProgressStyle(description_width='i…"
      ]
     },
     "metadata": {},
     "output_type": "display_data"
    },
    {
     "name": "stdout",
     "output_type": "stream",
     "text": [
      "Train loss: 0.3011312563168375\n",
      "Validation loss: 0.24062169820535928\n",
      "Validation Accuracy: 0.7466936383928573\n",
      "F1-Score: 0.20020052135552435\n",
      "- Time elasped: 143.80787 seconds\n",
      "\n",
      "* Epoch 4/5\n"
     ]
    },
    {
     "data": {
      "application/vnd.jupyter.widget-view+json": {
       "model_id": "",
       "version_major": 2,
       "version_minor": 0
      },
      "text/plain": [
       "HBox(children=(IntProgress(value=0, description='Trainning', max=513, style=ProgressStyle(description_width='i…"
      ]
     },
     "metadata": {},
     "output_type": "display_data"
    },
    {
     "name": "stdout",
     "output_type": "stream",
     "text": [
      "Train loss: 0.22808465640447292\n",
      "Validation loss: 0.1821113966871053\n",
      "Validation Accuracy: 0.7498116629464284\n",
      "F1-Score: 0.2198326323548541\n",
      "- Time elasped: 143.82686 seconds\n",
      "\n",
      "* Epoch 5/5\n"
     ]
    },
    {
     "data": {
      "application/vnd.jupyter.widget-view+json": {
       "model_id": "",
       "version_major": 2,
       "version_minor": 0
      },
      "text/plain": [
       "HBox(children=(IntProgress(value=0, description='Trainning', max=513, style=ProgressStyle(description_width='i…"
      ]
     },
     "metadata": {},
     "output_type": "display_data"
    },
    {
     "name": "stdout",
     "output_type": "stream",
     "text": [
      "Train loss: 0.1795334088639674\n",
      "Validation loss: 0.12220295026781969\n",
      "Validation Accuracy: 0.7654994419642858\n",
      "F1-Score: 0.22712799830184674\n",
      "- Time elasped: 143.85109 seconds\n",
      "\n"
     ]
    }
   ],
   "source": [
    "net = model(bert_conf_path, bert_weight, num_class=len(classes))\n",
    "#if pargs.full_trainning:\n",
    "net.full_trainning(True)\n",
    "net.train(train_dataloader, val_dataloader, 5, tags)"
   ]
  },
  {
   "cell_type": "code",
   "execution_count": 3,
   "metadata": {},
   "outputs": [
    {
     "name": "stdout",
     "output_type": "stream",
     "text": [
      "* Epoch 1/5\n"
     ]
    },
    {
     "data": {
      "application/vnd.jupyter.widget-view+json": {
       "model_id": "",
       "version_major": 2,
       "version_minor": 0
      },
      "text/plain": [
       "HBox(children=(IntProgress(value=0, description='Trainning', max=513, style=ProgressStyle(description_width='i…"
      ]
     },
     "metadata": {},
     "output_type": "display_data"
    },
    {
     "name": "stdout",
     "output_type": "stream",
     "text": [
      "Train loss: 1.2283605348761784\n",
      "Validation loss: 1.1580864740535617\n",
      "Validation Accuracy: 0.9546805245535714\n",
      "F1-Score: 0\n",
      "- Time elasped: 132.74724 seconds\n",
      "\n",
      "* Epoch 2/5\n"
     ]
    },
    {
     "data": {
      "application/vnd.jupyter.widget-view+json": {
       "model_id": "",
       "version_major": 2,
       "version_minor": 0
      },
      "text/plain": [
       "HBox(children=(IntProgress(value=0, description='Trainning', max=513, style=ProgressStyle(description_width='i…"
      ]
     },
     "metadata": {},
     "output_type": "display_data"
    },
    {
     "name": "stdout",
     "output_type": "stream",
     "text": [
      "Train loss: 0.9386262275554516\n",
      "Validation loss: 1.1229749536141753\n",
      "Validation Accuracy: 0.9546805245535714\n",
      "F1-Score: 0\n",
      "- Time elasped: 133.56623 seconds\n",
      "\n",
      "* Epoch 3/5\n"
     ]
    },
    {
     "data": {
      "application/vnd.jupyter.widget-view+json": {
       "model_id": "",
       "version_major": 2,
       "version_minor": 0
      },
      "text/plain": [
       "HBox(children=(IntProgress(value=0, description='Trainning', max=513, style=ProgressStyle(description_width='i…"
      ]
     },
     "metadata": {},
     "output_type": "display_data"
    },
    {
     "name": "stdout",
     "output_type": "stream",
     "text": [
      "Train loss: 0.8971636782147964\n",
      "Validation loss: 1.100934055633843\n",
      "Validation Accuracy: 0.9546805245535714\n",
      "F1-Score: 0\n",
      "- Time elasped: 133.64332 seconds\n",
      "\n",
      "* Epoch 4/5\n"
     ]
    },
    {
     "data": {
      "application/vnd.jupyter.widget-view+json": {
       "model_id": "",
       "version_major": 2,
       "version_minor": 0
      },
      "text/plain": [
       "HBox(children=(IntProgress(value=0, description='Trainning', max=513, style=ProgressStyle(description_width='i…"
      ]
     },
     "metadata": {},
     "output_type": "display_data"
    },
    {
     "name": "stdout",
     "output_type": "stream",
     "text": [
      "Train loss: 0.8757615277641698\n",
      "Validation loss: 1.0787096628919244\n",
      "Validation Accuracy: 0.9551478794642858\n",
      "F1-Score: 0\n",
      "- Time elasped: 133.65425 seconds\n",
      "\n",
      "* Epoch 5/5\n"
     ]
    },
    {
     "data": {
      "application/vnd.jupyter.widget-view+json": {
       "model_id": "",
       "version_major": 2,
       "version_minor": 0
      },
      "text/plain": [
       "HBox(children=(IntProgress(value=0, description='Trainning', max=513, style=ProgressStyle(description_width='i…"
      ]
     },
     "metadata": {},
     "output_type": "display_data"
    },
    {
     "name": "stdout",
     "output_type": "stream",
     "text": [
      "Train loss: 0.8589685022482398\n",
      "Validation loss: 1.0636651320382953\n",
      "Validation Accuracy: 0.9551478794642858\n",
      "F1-Score: 0\n",
      "- Time elasped: 133.65274 seconds\n",
      "\n"
     ]
    }
   ],
   "source": [
    "net = model(bert_conf_path, bert_weight, num_class=len(classes))\n",
    "#if pargs.full_trainning:\n",
    "#net.full_trainning(True)\n",
    "net.train(train_dataloader, val_dataloader, 5, tags)"
   ]
  },
  {
   "cell_type": "code",
   "execution_count": 4,
   "metadata": {},
   "outputs": [],
   "source": [
    "net.save('weights/pytorch_weight_70')"
   ]
  },
  {
   "cell_type": "code",
   "execution_count": 5,
   "metadata": {},
   "outputs": [],
   "source": [
    "torch.cuda.empty_cache()"
   ]
  },
  {
   "cell_type": "code",
   "execution_count": 6,
   "metadata": {},
   "outputs": [],
   "source": [
    "net.full_trainning(True)"
   ]
  },
  {
   "cell_type": "code",
   "execution_count": 7,
   "metadata": {},
   "outputs": [
    {
     "name": "stdout",
     "output_type": "stream",
     "text": [
      "* Epoch 6/5\n"
     ]
    },
    {
     "data": {
      "application/vnd.jupyter.widget-view+json": {
       "model_id": "",
       "version_major": 2,
       "version_minor": 0
      },
      "text/plain": [
       "HBox(children=(IntProgress(value=0, description='Trainning', max=513, style=ProgressStyle(description_width='i…"
      ]
     },
     "metadata": {},
     "output_type": "display_data"
    },
    {
     "name": "stdout",
     "output_type": "stream",
     "text": [
      "Train loss: 0.639397656417962\n",
      "Validation loss: 0.5176578732207417\n",
      "Validation Accuracy: 0.8216657366071429\n",
      "F1-Score: 0.20260416666666664\n",
      "- Time elasped: 142.99858 seconds\n",
      "\n",
      "* Epoch 7/5\n"
     ]
    },
    {
     "data": {
      "application/vnd.jupyter.widget-view+json": {
       "model_id": "",
       "version_major": 2,
       "version_minor": 0
      },
      "text/plain": [
       "HBox(children=(IntProgress(value=0, description='Trainning', max=513, style=ProgressStyle(description_width='i…"
      ]
     },
     "metadata": {},
     "output_type": "display_data"
    },
    {
     "name": "stdout",
     "output_type": "stream",
     "text": [
      "Train loss: 0.43753792627280685\n",
      "Validation loss: 0.33671262208372355\n",
      "Validation Accuracy: 0.8254464285714285\n",
      "F1-Score: 0.25538779197315786\n",
      "- Time elasped: 144.11149 seconds\n",
      "\n",
      "* Epoch 8/5\n"
     ]
    },
    {
     "data": {
      "application/vnd.jupyter.widget-view+json": {
       "model_id": "",
       "version_major": 2,
       "version_minor": 0
      },
      "text/plain": [
       "HBox(children=(IntProgress(value=0, description='Trainning', max=513, style=ProgressStyle(description_width='i…"
      ]
     },
     "metadata": {},
     "output_type": "display_data"
    },
    {
     "name": "stdout",
     "output_type": "stream",
     "text": [
      "Train loss: 0.32145881716735647\n",
      "Validation loss: 0.21122395305428654\n",
      "Validation Accuracy: 0.8210937499999997\n",
      "F1-Score: 0.3032089502244255\n",
      "- Time elasped: 144.09311 seconds\n",
      "\n",
      "* Epoch 9/5\n"
     ]
    },
    {
     "data": {
      "application/vnd.jupyter.widget-view+json": {
       "model_id": "",
       "version_major": 2,
       "version_minor": 0
      },
      "text/plain": [
       "HBox(children=(IntProgress(value=0, description='Trainning', max=513, style=ProgressStyle(description_width='i…"
      ]
     },
     "metadata": {},
     "output_type": "display_data"
    },
    {
     "name": "stdout",
     "output_type": "stream",
     "text": [
      "Train loss: 0.24024605913701347\n",
      "Validation loss: 0.1780150133126881\n",
      "Validation Accuracy: 0.8338378906249998\n",
      "F1-Score: 0.29917417417417413\n",
      "- Time elasped: 144.10458 seconds\n",
      "\n",
      "* Epoch 10/5\n"
     ]
    },
    {
     "data": {
      "application/vnd.jupyter.widget-view+json": {
       "model_id": "",
       "version_major": 2,
       "version_minor": 0
      },
      "text/plain": [
       "HBox(children=(IntProgress(value=0, description='Trainning', max=513, style=ProgressStyle(description_width='i…"
      ]
     },
     "metadata": {},
     "output_type": "display_data"
    },
    {
     "name": "stdout",
     "output_type": "stream",
     "text": [
      "Train loss: 0.18939213300773738\n",
      "Validation loss: 0.24503419530810788\n",
      "Validation Accuracy: 0.8028599330357145\n",
      "F1-Score: 0.3096774193548387\n",
      "- Time elasped: 144.10097 seconds\n",
      "\n"
     ]
    }
   ],
   "source": [
    "net.train(train_dataloader, val_dataloader, 5, tags)"
   ]
  },
  {
   "cell_type": "code",
   "execution_count": 8,
   "metadata": {},
   "outputs": [],
   "source": [
    "net.save('weights/pytorch_weight_70')"
   ]
  },
  {
   "cell_type": "code",
   "execution_count": null,
   "metadata": {},
   "outputs": [],
   "source": []
  }
 ],
 "metadata": {
  "kernelspec": {
   "display_name": "Python 3",
   "language": "python",
   "name": "python3"
  },
  "language_info": {
   "codemirror_mode": {
    "name": "ipython",
    "version": 3
   },
   "file_extension": ".py",
   "mimetype": "text/x-python",
   "name": "python",
   "nbconvert_exporter": "python",
   "pygments_lexer": "ipython3",
   "version": "3.7.3"
  }
 },
 "nbformat": 4,
 "nbformat_minor": 2
}
